{
 "cells": [
  {
   "metadata": {},
   "cell_type": "markdown",
   "source": [
    "# Week 1 – Environment Validation & Project Initialization\n",
    "\n",
    "This notebook serves as the **first step in the project**: *Investigation on Using Thick Data Analytics in Medical Paradigm*."
   ],
   "id": "fac2be528f8aac98"
  },
  {
   "metadata": {},
   "cell_type": "markdown",
   "source": [
    "## Goals of This Notebook:\n",
    "1. Verify Python environment and required libraries.\n",
    "2. Confirm GPU availability (critical for deep learning tasks).\n",
    "3. Demonstrate a small test experiment to ensure everything runs smoothly.\n",
    "\n",
    "By the end of this notebook, we will have a validated environment and a ready-to-use structure for future experiments."
   ],
   "id": "1f5e60983480ce6f"
  },
  {
   "metadata": {},
   "cell_type": "markdown",
   "source": [
    "## Project Context\n",
    "\n",
    "Medical data is often **limited and sensitive**, making it difficult to train large deep learning models.\n",
    "This project investigates how to:\n",
    "- Build **CNN baseline models** for medical imaging.\n",
    "- Explore **few-shot learning** techniques for \"thick data\" (small but high-quality datasets).\n",
    "- Experiment with **augmentation and fine-tuning** to improve performance.\n",
    "\n",
    "In this notebook, we focus solely on environment setup and validation."
   ],
   "id": "a56fe76f614722ff"
  },
  {
   "metadata": {},
   "cell_type": "markdown",
   "source": [
    "## Step 1 – Install Required Libraries\n",
    "\n",
    "We need to ensure that all essential Python packages are installed:\n",
    "- **numpy** and **pandas** for data handling.\n",
    "- **matplotlib** for visualization.\n",
    "- **torch torchvision torchaudio** for deep learning.\n",
    "- **scikit-learn** for evaluation metrics."
   ],
   "id": "fbe420a4fd85e2d9"
  },
  {
   "metadata": {
    "ExecuteTime": {
     "end_time": "2025-09-17T17:19:04.967887Z",
     "start_time": "2025-09-17T17:19:04.591099Z"
    }
   },
   "cell_type": "code",
   "source": "! pip install torch torchvision torchaudio numpy pandas matplotlib scikit-learn",
   "id": "1353a5eec39a0db3",
   "outputs": [
    {
     "name": "stdout",
     "output_type": "stream",
     "text": [
      "Requirement already satisfied: torch in /Users/ali/Documents/MSC-Project/Project/.venv/lib/python3.11/site-packages (2.8.0)\r\n",
      "Requirement already satisfied: torchvision in /Users/ali/Documents/MSC-Project/Project/.venv/lib/python3.11/site-packages (0.23.0)\r\n",
      "Requirement already satisfied: torchaudio in /Users/ali/Documents/MSC-Project/Project/.venv/lib/python3.11/site-packages (2.8.0)\r\n",
      "Requirement already satisfied: numpy in /Users/ali/Documents/MSC-Project/Project/.venv/lib/python3.11/site-packages (2.3.3)\r\n",
      "Requirement already satisfied: pandas in /Users/ali/Documents/MSC-Project/Project/.venv/lib/python3.11/site-packages (2.3.2)\r\n",
      "Requirement already satisfied: matplotlib in /Users/ali/Documents/MSC-Project/Project/.venv/lib/python3.11/site-packages (3.10.6)\r\n",
      "Requirement already satisfied: scikit-learn in /Users/ali/Documents/MSC-Project/Project/.venv/lib/python3.11/site-packages (1.7.2)\r\n",
      "Requirement already satisfied: filelock in /Users/ali/Documents/MSC-Project/Project/.venv/lib/python3.11/site-packages (from torch) (3.19.1)\r\n",
      "Requirement already satisfied: typing-extensions>=4.10.0 in /Users/ali/Documents/MSC-Project/Project/.venv/lib/python3.11/site-packages (from torch) (4.15.0)\r\n",
      "Requirement already satisfied: sympy>=1.13.3 in /Users/ali/Documents/MSC-Project/Project/.venv/lib/python3.11/site-packages (from torch) (1.14.0)\r\n",
      "Requirement already satisfied: networkx in /Users/ali/Documents/MSC-Project/Project/.venv/lib/python3.11/site-packages (from torch) (3.5)\r\n",
      "Requirement already satisfied: jinja2 in /Users/ali/Documents/MSC-Project/Project/.venv/lib/python3.11/site-packages (from torch) (3.1.6)\r\n",
      "Requirement already satisfied: fsspec in /Users/ali/Documents/MSC-Project/Project/.venv/lib/python3.11/site-packages (from torch) (2025.9.0)\r\n",
      "Requirement already satisfied: pillow!=8.3.*,>=5.3.0 in /Users/ali/Documents/MSC-Project/Project/.venv/lib/python3.11/site-packages (from torchvision) (11.3.0)\r\n",
      "Requirement already satisfied: python-dateutil>=2.8.2 in /Users/ali/Documents/MSC-Project/Project/.venv/lib/python3.11/site-packages (from pandas) (2.9.0.post0)\r\n",
      "Requirement already satisfied: pytz>=2020.1 in /Users/ali/Documents/MSC-Project/Project/.venv/lib/python3.11/site-packages (from pandas) (2025.2)\r\n",
      "Requirement already satisfied: tzdata>=2022.7 in /Users/ali/Documents/MSC-Project/Project/.venv/lib/python3.11/site-packages (from pandas) (2025.2)\r\n",
      "Requirement already satisfied: contourpy>=1.0.1 in /Users/ali/Documents/MSC-Project/Project/.venv/lib/python3.11/site-packages (from matplotlib) (1.3.3)\r\n",
      "Requirement already satisfied: cycler>=0.10 in /Users/ali/Documents/MSC-Project/Project/.venv/lib/python3.11/site-packages (from matplotlib) (0.12.1)\r\n",
      "Requirement already satisfied: fonttools>=4.22.0 in /Users/ali/Documents/MSC-Project/Project/.venv/lib/python3.11/site-packages (from matplotlib) (4.60.0)\r\n",
      "Requirement already satisfied: kiwisolver>=1.3.1 in /Users/ali/Documents/MSC-Project/Project/.venv/lib/python3.11/site-packages (from matplotlib) (1.4.9)\r\n",
      "Requirement already satisfied: packaging>=20.0 in /Users/ali/Documents/MSC-Project/Project/.venv/lib/python3.11/site-packages (from matplotlib) (25.0)\r\n",
      "Requirement already satisfied: pyparsing>=2.3.1 in /Users/ali/Documents/MSC-Project/Project/.venv/lib/python3.11/site-packages (from matplotlib) (3.2.4)\r\n",
      "Requirement already satisfied: scipy>=1.8.0 in /Users/ali/Documents/MSC-Project/Project/.venv/lib/python3.11/site-packages (from scikit-learn) (1.16.2)\r\n",
      "Requirement already satisfied: joblib>=1.2.0 in /Users/ali/Documents/MSC-Project/Project/.venv/lib/python3.11/site-packages (from scikit-learn) (1.5.2)\r\n",
      "Requirement already satisfied: threadpoolctl>=3.1.0 in /Users/ali/Documents/MSC-Project/Project/.venv/lib/python3.11/site-packages (from scikit-learn) (3.6.0)\r\n",
      "Requirement already satisfied: six>=1.5 in /Users/ali/Documents/MSC-Project/Project/.venv/lib/python3.11/site-packages (from python-dateutil>=2.8.2->pandas) (1.17.0)\r\n",
      "Requirement already satisfied: mpmath<1.4,>=1.1.0 in /Users/ali/Documents/MSC-Project/Project/.venv/lib/python3.11/site-packages (from sympy>=1.13.3->torch) (1.3.0)\r\n",
      "Requirement already satisfied: MarkupSafe>=2.0 in /Users/ali/Documents/MSC-Project/Project/.venv/lib/python3.11/site-packages (from jinja2->torch) (3.0.2)\r\n",
      "\r\n",
      "\u001B[1m[\u001B[0m\u001B[34;49mnotice\u001B[0m\u001B[1;39;49m]\u001B[0m\u001B[39;49m A new release of pip is available: \u001B[0m\u001B[31;49m24.3.1\u001B[0m\u001B[39;49m -> \u001B[0m\u001B[32;49m25.2\u001B[0m\r\n",
      "\u001B[1m[\u001B[0m\u001B[34;49mnotice\u001B[0m\u001B[1;39;49m]\u001B[0m\u001B[39;49m To update, run: \u001B[0m\u001B[32;49mpip install --upgrade pip\u001B[0m\r\n"
     ]
    }
   ],
   "execution_count": 1
  },
  {
   "metadata": {
    "ExecuteTime": {
     "end_time": "2025-09-17T17:19:05.236555Z",
     "start_time": "2025-09-17T17:19:04.973142Z"
    }
   },
   "cell_type": "code",
   "source": [
    "# Automatically generate the requirements.txt\n",
    "!pip freeze > requirements.txt"
   ],
   "id": "ffdc4e954970b1e",
   "outputs": [],
   "execution_count": 2
  },
  {
   "metadata": {},
   "cell_type": "markdown",
   "source": "## Verify GPU Availability",
   "id": "238996cc6a7565e9"
  },
  {
   "metadata": {
    "ExecuteTime": {
     "end_time": "2025-09-17T17:19:07.075688Z",
     "start_time": "2025-09-17T17:19:05.240834Z"
    }
   },
   "cell_type": "code",
   "source": [
    "import torch\n",
    "\n",
    "if torch.backends.mps.is_available():\n",
    "    print(\"MPS (Metal Performance Shaders) is available! Using GPU.\")\n",
    "    mps_device = torch.device(\"mps\")\n",
    "    x = torch.rand(5, 3, device=mps_device)\n",
    "    print(x)\n",
    "else:\n",
    "    prnt(\"MPS is not available. Falling back to CPU.\")"
   ],
   "id": "c9579d3e3976c6fd",
   "outputs": [
    {
     "name": "stdout",
     "output_type": "stream",
     "text": [
      "MPS (Metal Performance Shaders) is available! Using GPU.\n",
      "tensor([[0.0663, 0.2484, 0.3897],\n",
      "        [0.5789, 0.1860, 0.0122],\n",
      "        [0.2780, 0.2286, 0.5039],\n",
      "        [0.8579, 0.3427, 0.8478],\n",
      "        [0.8425, 0.6157, 0.3129]], device='mps:0')\n"
     ]
    }
   ],
   "execution_count": 3
  },
  {
   "metadata": {},
   "cell_type": "markdown",
   "source": [
    "# Debugging Log\n",
    "\n",
    "**Problem:**\n",
    "Project environment couldn’t use MacBook M4 GPU → `ModuleNotFoundError: No module named 'torch'` and GPU not detected.\n",
    "\n",
    "---\n",
    "\n",
    "## Failed Attempts (TensorFlow Path)\n",
    "\n",
    "- **Initial Attempt:** Python 3.12+ environment → GPU setup issues.\n",
    "- **TensorFlow Experimentation:** Failed to detect Apple Metal GPU (TF expects NVIDIA CUDA).\n",
    "- **Version Downgrade:** Python 3.11.9 + `tensorflow==2.20.0` → still failed.\n",
    "- **Nightly Builds:** `pip install tf-nightly` → no Metal support.\n",
    "- **Result:** TensorFlow + Python versions could not use M4 GPU.\n",
    "\n",
    "---\n",
    "\n",
    "## Solution: Switch to PyTorch & MPS\n",
    "\n",
    "1. **Environment Reset:** Cleared old virtual environments and caches.\n",
    "2. **PyTorch Installation:** New virtualenv → install:\n",
    "\n",
    "```\n",
    "pip install torch torchvision torchaudio numpy pandas matplotlib scikit-learn\n",
    "pip install ipykernel\n",
    "```\n",
    "\n",
    "3. **Jupyter Integration:** Register new kernel:\n",
    "```\n",
    "python -m ipykernel install --user --name=MSc-Project --display-name=\"MSc-Project (Python 3.11.9)\"\n",
    "```\n",
    "\n",
    "4. **Final Step:** Switch notebook to this kernel → PyTorch imports successfully and uses MPS backend.\n",
    "\n",
    "## Why CUDA Doesn’t Work:\n",
    "\n",
    "- M4 GPU doesn’t support NVIDIA CUDA.\n",
    "- PyTorch supports Metal Performance Shaders (MPS) for Apple Silicon.\n",
    "- Using 'mps' device in PyTorch automatically leverages GPU acceleration.\n"
   ],
   "id": "16f97a7f50d4f058"
  }
 ],
 "metadata": {
  "kernelspec": {
   "display_name": "Python 3",
   "language": "python",
   "name": "python3"
  },
  "language_info": {
   "codemirror_mode": {
    "name": "ipython",
    "version": 2
   },
   "file_extension": ".py",
   "mimetype": "text/x-python",
   "name": "python",
   "nbconvert_exporter": "python",
   "pygments_lexer": "ipython2",
   "version": "2.7.6"
  }
 },
 "nbformat": 4,
 "nbformat_minor": 5
}
